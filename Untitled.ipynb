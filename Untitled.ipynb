{
 "cells": [
  {
   "cell_type": "markdown",
   "id": "d17763ee",
   "metadata": {},
   "source": [
    "Цикл событий (event loop) - по большей части всего лишь управляет выполнением различных задач: регистрирует поступление и запускает в подходящий момент\n",
    "\n",
    "Корутины — специальные функции, похожие на генераторы python, от которых ожидают (await), что они будут отдавать управление обратно в цикл событий. Необходимо, чтобы они были запущены именно через цикл событий\n",
    "\n",
    "Футуры — объекты, в которых хранится текущий результат выполнения какой-либо задачи. Это может быть информация о том, что задача ещё не обработана или уже полученный результат; а может быть вообще исключение"
   ]
  },
  {
   "cell_type": "code",
   "execution_count": null,
   "id": "569f4bad",
   "metadata": {},
   "outputs": [],
   "source": []
  },
  {
   "cell_type": "code",
   "execution_count": 5,
   "id": "5a7f15a9",
   "metadata": {},
   "outputs": [
    {
     "name": "stdout",
     "output_type": "stream",
     "text": [
      "Starting http://www.google.com\n",
      "Starting http://www.python.org\n",
      "Starting http://www.yandex.ru\n"
     ]
    },
    {
     "data": {
      "text/plain": [
       "({<Task finished coro=<call_url() done, defined at <ipython-input-5-e0f1ba3a72e7>:7> exception=UnboundLocalError(\"local variable 'c' referenced before assignment\",)>,\n",
       "  <Task finished coro=<call_url() done, defined at <ipython-input-5-e0f1ba3a72e7>:7> exception=UnboundLocalError(\"local variable 'c' referenced before assignment\",)>,\n",
       "  <Task finished coro=<call_url() done, defined at <ipython-input-5-e0f1ba3a72e7>:7> exception=UnboundLocalError(\"local variable 'c' referenced before assignment\",)>},\n",
       " set())"
      ]
     },
     "execution_count": 5,
     "metadata": {},
     "output_type": "execute_result"
    }
   ],
   "source": [
    "import asyncio\n",
    "import aiohttp\n",
    "\n",
    "urls = ['http://www.google.com', 'http://www.yandex.ru', 'http://www.python.org']\n",
    "c = 0\n",
    "\n",
    "async def call_url(url):\n",
    "    print('Starting {}'.format(url))\n",
    "    c += 1\n",
    "    response = await aiohttp.get(url)\n",
    "    data = await response.text()\n",
    "    print('{}: {} bytes: {}'.format(url, len(data), 'data'))\n",
    "    return data\n",
    "\n",
    "loop = asyncio.get_event_loop()\n",
    "futures = [call_url(url) for url in urls]\n",
    "\n",
    "\n",
    "loop.run_until_complete(asyncio.wait(futures))\n"
   ]
  },
  {
   "cell_type": "code",
   "execution_count": 1,
   "id": "850f78cd",
   "metadata": {},
   "outputs": [
    {
     "ename": "NameError",
     "evalue": "name 'loop' is not defined",
     "output_type": "error",
     "traceback": [
      "\u001b[1;31m---------------------------------------------------------------------------\u001b[0m",
      "\u001b[1;31mNameError\u001b[0m                                 Traceback (most recent call last)",
      "\u001b[1;32m<ipython-input-1-fdec250ab8ae>\u001b[0m in \u001b[0;36m<module>\u001b[1;34m\u001b[0m\n\u001b[1;32m----> 1\u001b[1;33m \u001b[1;32mif\u001b[0m \u001b[0mloop\u001b[0m\u001b[1;33m.\u001b[0m\u001b[0mis_running\u001b[0m\u001b[1;33m(\u001b[0m\u001b[1;33m)\u001b[0m\u001b[1;33m:\u001b[0m\u001b[1;33m\u001b[0m\u001b[1;33m\u001b[0m\u001b[0m\n\u001b[0m\u001b[0;32m      2\u001b[0m     \u001b[0mloop\u001b[0m\u001b[1;33m.\u001b[0m\u001b[0mstop\u001b[0m\u001b[1;33m(\u001b[0m\u001b[1;33m)\u001b[0m\u001b[1;33m\u001b[0m\u001b[1;33m\u001b[0m\u001b[0m\n\u001b[0;32m      3\u001b[0m     \u001b[0mloop\u001b[0m\u001b[1;33m.\u001b[0m\u001b[0mclose\u001b[0m\u001b[1;33m(\u001b[0m\u001b[1;33m)\u001b[0m\u001b[1;33m\u001b[0m\u001b[1;33m\u001b[0m\u001b[0m\n",
      "\u001b[1;31mNameError\u001b[0m: name 'loop' is not defined"
     ]
    }
   ],
   "source": [
    "if loop.is_running():\n",
    "    loop.stop()\n",
    "    loop.close()"
   ]
  },
  {
   "cell_type": "code",
   "execution_count": null,
   "id": "d6720835",
   "metadata": {},
   "outputs": [],
   "source": []
  },
  {
   "cell_type": "code",
   "execution_count": null,
   "id": "99bcf9eb",
   "metadata": {},
   "outputs": [],
   "source": []
  },
  {
   "cell_type": "code",
   "execution_count": null,
   "id": "bcd81c6e",
   "metadata": {},
   "outputs": [],
   "source": [
    "async def f(category, total): \n",
    "    urls = [urls_template[category].format(t) for t in t_list]\n",
    "    soups_coro = map(parseURL_async, urls)\n",
    "\n",
    "    loop = asyncio.get_event_loop()\n",
    "    result = await loop.run_until_complete(asyncio.gather(*soups_coro))\n",
    "\n",
    "loop = asyncio.get_event_loop()\n",
    "b = loop.create_task(f(\"p\", all_p_list))\n",
    "f = loop.create_task(f(\"f\", all_f_list))\n",
    "\n",
    "loop.run_until_complete(asyncio.gather(p, f))\n",
    "    \n"
   ]
  },
  {
   "cell_type": "code",
   "execution_count": null,
   "id": "27577687",
   "metadata": {},
   "outputs": [],
   "source": [
    "async def f(category, total): \n",
    "    urls = [urls_template[category].format(t) for t in t_list]\n",
    "    soups_coro = map(parseURL_async, urls)\n",
    "\n",
    "    result = await asyncio.gather(*soups_coro)"
   ]
  },
  {
   "cell_type": "code",
   "execution_count": null,
   "id": "ca49bd45",
   "metadata": {},
   "outputs": [],
   "source": []
  },
  {
   "cell_type": "code",
   "execution_count": 4,
   "id": "bc036678",
   "metadata": {},
   "outputs": [
    {
     "name": "stdout",
     "output_type": "stream",
     "text": [
      "gr1 started work: at 0.0010 seconds\n",
      "gr2 started work: at 0.0010 seconds\n",
      "Let's do some stuff while the coroutines are blocked: at 0.0010 seconds\n",
      "Done!: at 1.0138 seconds\n",
      "gr2 Ended work: at 2.0098 seconds\n",
      "gr1 ended work: at 2.0098 seconds\n"
     ]
    },
    {
     "ename": "RuntimeError",
     "evalue": "Cannot close a running event loop",
     "output_type": "error",
     "traceback": [
      "\u001b[1;31m---------------------------------------------------------------------------\u001b[0m",
      "\u001b[1;31mRuntimeError\u001b[0m                              Traceback (most recent call last)",
      "\u001b[1;32m<ipython-input-4-2f68c1083cb7>\u001b[0m in \u001b[0;36m<module>\u001b[1;34m\u001b[0m\n\u001b[0;32m     41\u001b[0m \u001b[1;33m\u001b[0m\u001b[0m\n\u001b[0;32m     42\u001b[0m \u001b[0mioloop\u001b[0m\u001b[1;33m.\u001b[0m\u001b[0mrun_until_complete\u001b[0m\u001b[1;33m(\u001b[0m\u001b[0masyncio\u001b[0m\u001b[1;33m.\u001b[0m\u001b[0mwait\u001b[0m\u001b[1;33m(\u001b[0m\u001b[0mtasks\u001b[0m\u001b[1;33m)\u001b[0m\u001b[1;33m)\u001b[0m\u001b[1;33m\u001b[0m\u001b[1;33m\u001b[0m\u001b[0m\n\u001b[1;32m---> 43\u001b[1;33m \u001b[0mioloop\u001b[0m\u001b[1;33m.\u001b[0m\u001b[0mclose\u001b[0m\u001b[1;33m(\u001b[0m\u001b[1;33m)\u001b[0m\u001b[1;33m\u001b[0m\u001b[1;33m\u001b[0m\u001b[0m\n\u001b[0m",
      "\u001b[1;32mC:\\Anaconda3\\envs\\svzcom\\lib\\asyncio\\selector_events.py\u001b[0m in \u001b[0;36mclose\u001b[1;34m(self)\u001b[0m\n\u001b[0;32m     94\u001b[0m     \u001b[1;32mdef\u001b[0m \u001b[0mclose\u001b[0m\u001b[1;33m(\u001b[0m\u001b[0mself\u001b[0m\u001b[1;33m)\u001b[0m\u001b[1;33m:\u001b[0m\u001b[1;33m\u001b[0m\u001b[1;33m\u001b[0m\u001b[0m\n\u001b[0;32m     95\u001b[0m         \u001b[1;32mif\u001b[0m \u001b[0mself\u001b[0m\u001b[1;33m.\u001b[0m\u001b[0mis_running\u001b[0m\u001b[1;33m(\u001b[0m\u001b[1;33m)\u001b[0m\u001b[1;33m:\u001b[0m\u001b[1;33m\u001b[0m\u001b[1;33m\u001b[0m\u001b[0m\n\u001b[1;32m---> 96\u001b[1;33m             \u001b[1;32mraise\u001b[0m \u001b[0mRuntimeError\u001b[0m\u001b[1;33m(\u001b[0m\u001b[1;34m\"Cannot close a running event loop\"\u001b[0m\u001b[1;33m)\u001b[0m\u001b[1;33m\u001b[0m\u001b[1;33m\u001b[0m\u001b[0m\n\u001b[0m\u001b[0;32m     97\u001b[0m         \u001b[1;32mif\u001b[0m \u001b[0mself\u001b[0m\u001b[1;33m.\u001b[0m\u001b[0mis_closed\u001b[0m\u001b[1;33m(\u001b[0m\u001b[1;33m)\u001b[0m\u001b[1;33m:\u001b[0m\u001b[1;33m\u001b[0m\u001b[1;33m\u001b[0m\u001b[0m\n\u001b[0;32m     98\u001b[0m             \u001b[1;32mreturn\u001b[0m\u001b[1;33m\u001b[0m\u001b[1;33m\u001b[0m\u001b[0m\n",
      "\u001b[1;31mRuntimeError\u001b[0m: Cannot close a running event loop"
     ]
    }
   ],
   "source": [
    "import time\n",
    "import asyncio\n",
    "import nest_asyncio\n",
    "\n",
    "nest_asyncio.apply()\n",
    "start = time.time() # Время начала отсчета\n",
    "\n",
    "# Функция измерения времени \n",
    "def tic():\n",
    "    return 'at %1.4f seconds' % (time.time() - start)\n",
    "\n",
    "\n",
    "async def gr1():\n",
    "    # Busy waits for a second, but we don't want to stick around...\n",
    "    print('gr1 started work: {}'.format(tic()))\n",
    "    await asyncio.sleep(2)\n",
    "    print('gr1 ended work: {}'.format(tic()))\n",
    "\n",
    "\n",
    "\n",
    "async def gr2():\n",
    "    # Busy waits for a second, but we don't want to stick around...\n",
    "    print('gr2 started work: {}'.format(tic()))\n",
    "    await asyncio.sleep(2)\n",
    "    print('gr2 Ended work: {}'.format(tic()))\n",
    "\n",
    "\n",
    "\n",
    "async def gr3():\n",
    "    print(\"Let's do some stuff while the coroutines are blocked: {}\".format(tic()))\n",
    "    await asyncio.sleep(1)\n",
    "    print(\"Done!: {}\".format(tic()))\n",
    "\n",
    "          \n",
    "ioloop = asyncio.get_event_loop()\n",
    "tasks = [\n",
    "    ioloop.create_task(gr1()),\n",
    "    ioloop.create_task(gr2()),\n",
    "    ioloop.create_task(gr3())\n",
    "]\n",
    "\n",
    "ioloop.run_until_complete(asyncio.wait(tasks))\n",
    "ioloop.close()"
   ]
  },
  {
   "cell_type": "code",
   "execution_count": 23,
   "id": "ca905ce8",
   "metadata": {},
   "outputs": [
    {
     "name": "stdout",
     "output_type": "stream",
     "text": [
      "<_WindowsSelectorEventLoop running=True closed=False debug=False>\n"
     ]
    }
   ],
   "source": [
    "print(ioloop)"
   ]
  },
  {
   "cell_type": "code",
   "execution_count": null,
   "id": "140e4499",
   "metadata": {},
   "outputs": [],
   "source": []
  },
  {
   "cell_type": "code",
   "execution_count": 7,
   "id": "c8a5bacf",
   "metadata": {},
   "outputs": [
    {
     "name": "stdout",
     "output_type": "stream",
     "text": [
      "The asyncio package, tracking PEP 3156.\n"
     ]
    }
   ],
   "source": []
  },
  {
   "cell_type": "code",
   "execution_count": null,
   "id": "257f7150",
   "metadata": {},
   "outputs": [],
   "source": []
  }
 ],
 "metadata": {
  "kernelspec": {
   "display_name": "Python 3",
   "language": "python",
   "name": "python3"
  },
  "language_info": {
   "codemirror_mode": {
    "name": "ipython",
    "version": 3
   },
   "file_extension": ".py",
   "mimetype": "text/x-python",
   "name": "python",
   "nbconvert_exporter": "python",
   "pygments_lexer": "ipython3",
   "version": "3.6.13"
  }
 },
 "nbformat": 4,
 "nbformat_minor": 5
}
